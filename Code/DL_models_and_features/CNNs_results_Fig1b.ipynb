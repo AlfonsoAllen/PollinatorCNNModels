{
 "cells": [
  {
   "cell_type": "code",
   "execution_count": 1,
   "id": "0af1a962",
   "metadata": {},
   "outputs": [],
   "source": [
    "import torch\n",
    "from torch import nn\n",
    "import matplotlib.pyplot as plt"
   ]
  },
  {
   "cell_type": "code",
   "execution_count": null,
   "id": "1004a047",
   "metadata": {},
   "outputs": [],
   "source": []
  },
  {
   "cell_type": "code",
   "execution_count": 2,
   "id": "bcdf4f6b",
   "metadata": {},
   "outputs": [],
   "source": [
    "# Define la estructura del modelo\n",
    "\n",
    "# Model definition\n",
    "dropout_rate = 0.5\n",
    "number_raster_layers = 9\n",
    "number_pixels_layer = 19\n",
    "\n",
    "class CNNRegressor(nn.Module):\n",
    "    def __init__(self):\n",
    "        super(CNNRegressor, self).__init__()\n",
    "        self.conv1 = nn.Conv2d(number_raster_layers, 16, kernel_size=3, stride=1, padding=1)\n",
    "        self.selu1 = nn.SELU()\n",
    "        self.conv2 = nn.Conv2d(16, 32, kernel_size=3, stride=1, padding=1)\n",
    "        self.selu2 = nn.SELU()\n",
    "        self.conv3 = nn.Conv2d(32, 64, kernel_size=3, stride=1, padding=1)\n",
    "        self.selu3 = nn.SELU()\n",
    "        self.conv4 = nn.Conv2d(64, 128, kernel_size=3, stride=1, padding=1)\n",
    "        self.selu4 = nn.SELU()\n",
    "        self.conv5 = nn.Conv2d(128, 256, kernel_size=3, stride=1, padding=1)\n",
    "        self.selu5 = nn.SELU()\n",
    "        self.conv6 = nn.Conv2d(256, 512, kernel_size=3, stride=1, padding=1)\n",
    "        self.selu6 = nn.SELU()\n",
    "        # self.dropout = nn.Dropout(dropout_rate)\n",
    "        self.flatten = nn.Flatten()\n",
    "        self.fc = nn.Linear(512 * number_pixels_layer * number_pixels_layer, 1)\n",
    "\n",
    "    def forward(self, x):\n",
    "        x = self.conv1(x)\n",
    "        x = self.selu1(x)\n",
    "        x = self.conv2(x)\n",
    "        x = self.selu2(x)\n",
    "        x = self.conv3(x)\n",
    "        x = self.selu3(x)\n",
    "        x = self.conv4(x)\n",
    "        x = self.selu4(x)\n",
    "        x = self.conv5(x)\n",
    "        x = self.selu5(x)\n",
    "        x = self.conv6(x)\n",
    "        x = self.selu6(x)\n",
    "        x = self.flatten(x)\n",
    "        # x = self.dropout(x)\n",
    "        x = self.fc(x)\n",
    "        return x\n",
    "\n",
    "model = CNNRegressor()"
   ]
  },
  {
   "cell_type": "code",
   "execution_count": 3,
   "id": "4872bcb3",
   "metadata": {},
   "outputs": [
    {
     "data": {
      "text/plain": [
       "<All keys matched successfully>"
      ]
     },
     "execution_count": 3,
     "metadata": {},
     "output_type": "execute_result"
    }
   ],
   "source": [
    "# Load model\n",
    "path_model = '../Data/Calibrated_models/global_regressor_V0.pth'\n",
    "model.load_state_dict(torch.load(path_model))\n"
   ]
  },
  {
   "cell_type": "code",
   "execution_count": 4,
   "id": "5c1cfeea",
   "metadata": {},
   "outputs": [
    {
     "data": {
      "text/plain": [
       "CNNRegressor(\n",
       "  (conv1): Conv2d(9, 16, kernel_size=(3, 3), stride=(1, 1), padding=(1, 1))\n",
       "  (selu1): SELU()\n",
       "  (conv2): Conv2d(16, 32, kernel_size=(3, 3), stride=(1, 1), padding=(1, 1))\n",
       "  (selu2): SELU()\n",
       "  (conv3): Conv2d(32, 64, kernel_size=(3, 3), stride=(1, 1), padding=(1, 1))\n",
       "  (selu3): SELU()\n",
       "  (conv4): Conv2d(64, 128, kernel_size=(3, 3), stride=(1, 1), padding=(1, 1))\n",
       "  (selu4): SELU()\n",
       "  (conv5): Conv2d(128, 256, kernel_size=(3, 3), stride=(1, 1), padding=(1, 1))\n",
       "  (selu5): SELU()\n",
       "  (conv6): Conv2d(256, 512, kernel_size=(3, 3), stride=(1, 1), padding=(1, 1))\n",
       "  (selu6): SELU()\n",
       "  (flatten): Flatten(start_dim=1, end_dim=-1)\n",
       "  (fc): Linear(in_features=184832, out_features=1, bias=True)\n",
       ")"
      ]
     },
     "execution_count": 4,
     "metadata": {},
     "output_type": "execute_result"
    }
   ],
   "source": [
    "# Cambia el modelo al modo de evaluación (si es necesario)\n",
    "model.eval()"
   ]
  },
  {
   "cell_type": "code",
   "execution_count": 5,
   "id": "12456b37",
   "metadata": {},
   "outputs": [],
   "source": [
    "# Load tensors\n",
    "path_tensor_train = '../Data/Calibrated_models/global_regressor_V0_tensor_y_train.pth'\n",
    "y_train = torch.load(path_tensor_train)\n",
    "\n",
    "path_tensor_test = '../Data/Calibrated_models/global_regressor_V0_tensor_y_test.pth'\n",
    "y_test = torch.load(path_tensor_test)\n",
    "\n",
    "path_tensor_test = '../Data/Calibrated_models/global_regressor_V0_test_tensor.pth'\n",
    "test_tensor = torch.load(path_tensor_test)\n",
    "\n",
    "path_tensor_training = '../Data/Calibrated_models/global_regressor_V0_training_tensor.pth'\n",
    "training_tensor = torch.load(path_tensor_training)"
   ]
  },
  {
   "cell_type": "code",
   "execution_count": null,
   "id": "dd2f80e3",
   "metadata": {},
   "outputs": [],
   "source": []
  },
  {
   "cell_type": "code",
   "execution_count": 6,
   "id": "43bd8638",
   "metadata": {},
   "outputs": [
    {
     "name": "stdout",
     "output_type": "stream",
     "text": [
      "170\n"
     ]
    }
   ],
   "source": [
    "# Extrayendo el valor de la primera dimensión\n",
    "total_number_test_sites = test_tensor.shape[0]\n",
    "print(total_number_test_sites)"
   ]
  },
  {
   "cell_type": "code",
   "execution_count": 7,
   "id": "162c43de",
   "metadata": {},
   "outputs": [
    {
     "name": "stdout",
     "output_type": "stream",
     "text": [
      "MSE: 2.108320951461792\n",
      "RMSE: 1.4520058631896973\n",
      "MAE: 1.1913878917694092\n",
      "R^2: 0.12594198646820398\n",
      "Pearson's r: 0.41490658905007916\n",
      "p-value (Pearson): 1.8501715378295973e-08\n",
      "Sanity check: r * r? 0.17214747763717125\n",
      "Sanity check: r2 - r * r = 0? False -0.04620549116896727\n",
      "Spearman's rho: 0.4399167953903466\n",
      "p-value: 1.944268783242885e-09\n"
     ]
    }
   ],
   "source": [
    "from sklearn.metrics import r2_score\n",
    "from scipy.stats import pearsonr\n",
    "from scipy.stats import spearmanr\n",
    "\n",
    "# Model eval\n",
    "y_pred = model(test_tensor.to(torch.float))\n",
    "y_true = y_test.to(torch.float)\n",
    "\n",
    "# MSE\n",
    "mse = nn.MSELoss()\n",
    "mse_loss = mse(y_pred, y_true)\n",
    "print(\"MSE:\", mse_loss.item())\n",
    "\n",
    "# RMSE\n",
    "rmse_loss = torch.sqrt(mse_loss)\n",
    "print(\"RMSE:\", rmse_loss.item())\n",
    "\n",
    "# MAE\n",
    "mae_loss = torch.mean(torch.abs(y_pred - y_true))\n",
    "print(\"MAE:\", mae_loss.item())\n",
    "\n",
    "y_true_array = y_true.flatten().tolist()\n",
    "y_pred_array = y_pred.flatten().tolist()\n",
    "\n",
    "# R^2\n",
    "r2 = r2_score(y_true_array, y_pred_array)\n",
    "print(\"R^2:\", r2)\n",
    "\n",
    "# Pearson\n",
    "corr, p_value_r = pearsonr(y_true_array, y_pred_array)\n",
    "print(\"Pearson's r:\", corr)\n",
    "print(\"p-value (Pearson):\", p_value_r)\n",
    "print(\"Sanity check: r * r?\", corr*corr)\n",
    "print(\"Sanity check: r2 - r * r = 0?\", r2 == corr*corr, r2 - corr*corr)\n",
    "\n",
    "# Spearman\n",
    "rho, p_value_rho = spearmanr(y_true_array, y_pred_array)\n",
    "print(\"Spearman's rho:\", rho)\n",
    "print(\"p-value:\", p_value_rho)"
   ]
  },
  {
   "cell_type": "code",
   "execution_count": 19,
   "id": "a8010e34",
   "metadata": {},
   "outputs": [
    {
     "data": {
      "image/png": "[encoded data removed]",
      "text/plain": [
       "<Figure size 640x480 with 1 Axes>"
      ]
     },
     "metadata": {},
     "output_type": "display_data"
    }
   ],
   "source": [
    "import matplotlib.pyplot as plt\n",
    "import numpy as np\n",
    "from scipy.stats import pearsonr, spearmanr\n",
    "\n",
    "# Exponenciar los valores de los puntos\n",
    "y_true_exp = np.exp(y_true_array)\n",
    "y_pred_exp = np.exp(y_pred_array)\n",
    "\n",
    "\n",
    "# Ajustar una línea de regresión con numpy en la escala exponencial\n",
    "coef = np.polyfit(np.log10(y_pred_exp), np.log10(y_true_exp), 1)\n",
    "poly1d_fn = np.poly1d(coef)\n",
    "\n",
    "# Crear una gráfica de dispersión con la línea de regresión\n",
    "plt.scatter(y_pred_exp, y_true_exp, label='Data')\n",
    "plt.plot(y_pred_exp, 10**poly1d_fn(np.log10(y_pred_exp)), color='blue', linestyle='--')\n",
    "\n",
    "\n",
    "# Configurar los ejes en escala logarítmica en base diez\n",
    "plt.xscale('log')\n",
    "plt.yscale('log')\n",
    "\n",
    "# Añadir etiquetas a los ejes\n",
    "plt.xlabel('CNN prediction (counts/min)', fontsize=16)\n",
    "plt.ylabel('Observed visitation rate\\n(counts/min)', fontsize=16)\n",
    "\n",
    "# Ajustar el tamaño de los valores de los ejes\n",
    "plt.xticks(fontsize=14)\n",
    "plt.yticks(fontsize=14)\n",
    "\n",
    "# Guardar la imagen\n",
    "plt.savefig('../Figures/CNN_scatter_plot_log_scale.png', dpi=300, bbox_inches='tight')\n",
    "\n",
    "# Mostrar la gráfica\n",
    "plt.show()\n"
   ]
  },
  {
   "cell_type": "code",
   "execution_count": 11,
   "id": "d03a4336",
   "metadata": {},
   "outputs": [
    {
     "name": "stdout",
     "output_type": "stream",
     "text": [
      "Pearson correlation coefficient: 0.16357909601285353\n",
      "Spearman rho: 0.4399167953903466\n"
     ]
    }
   ],
   "source": [
    "# Calcular el coeficiente de correlación de Pearson\n",
    "pearson_corr, _ = pearsonr(y_true_exp, y_pred_exp)\n",
    "print(f\"Pearson correlation coefficient: {pearson_corr}\")\n",
    "\n",
    "# Calcular el coeficiente rho de Spearman\n",
    "spearman_corr, _ = spearmanr(y_true_exp, y_pred_exp)\n",
    "print(f\"Spearman rho: {spearman_corr}\")"
   ]
  }
 ],
 "metadata": {
  "kernelspec": {
   "display_name": "Python 3 (ipykernel)",
   "language": "python",
   "name": "python3"
  },
  "language_info": {
   "codemirror_mode": {
    "name": "ipython",
    "version": 3
   },
   "file_extension": ".py",
   "mimetype": "text/x-python",
   "name": "python",
   "nbconvert_exporter": "python",
   "pygments_lexer": "ipython3",
   "version": "3.11.5"
  }
 },
 "nbformat": 4,
 "nbformat_minor": 5
}
