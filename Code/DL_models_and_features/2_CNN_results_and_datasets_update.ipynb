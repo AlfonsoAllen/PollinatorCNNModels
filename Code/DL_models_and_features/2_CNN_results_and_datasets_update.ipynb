{
 "cells": [
  {
   "cell_type": "code",
   "execution_count": null,
   "id": "f62e2ca5",
   "metadata": {},
   "outputs": [],
   "source": [
    "import torch\n",
    "import torch.nn as nn\n",
    "import pandas as pd\n",
    "from sklearn.metrics import r2_score\n",
    "from scipy.stats import pearsonr\n",
    "from scipy.stats import spearmanr\n",
    "import numpy as np"
   ]
  },
  {
   "cell_type": "code",
   "execution_count": null,
   "id": "e664cf08",
   "metadata": {},
   "outputs": [],
   "source": [
    "# Model definition\n",
    "number_raster_layers = 9\n",
    "number_pixels_layer = 19\n",
    "\n",
    "class CNNRegressor(nn.Module):\n",
    "    def __init__(self):\n",
    "        super(CNNRegressor, self).__init__()\n",
    "        self.conv1 = nn.Conv2d(number_raster_layers, 16, kernel_size=3, stride=1, padding=1)\n",
    "        self.selu1 = nn.SELU()\n",
    "        self.conv2 = nn.Conv2d(16, 32, kernel_size=3, stride=1, padding=1)\n",
    "        self.selu2 = nn.SELU()\n",
    "        self.conv3 = nn.Conv2d(32, 64, kernel_size=3, stride=1, padding=1)\n",
    "        self.selu3 = nn.SELU()\n",
    "        self.conv4 = nn.Conv2d(64, 128, kernel_size=3, stride=1, padding=1)\n",
    "        self.selu4 = nn.SELU()\n",
    "        self.conv5 = nn.Conv2d(128, 256, kernel_size=3, stride=1, padding=1)\n",
    "        self.selu5 = nn.SELU()\n",
    "        self.conv6 = nn.Conv2d(256, 512, kernel_size=3, stride=1, padding=1)\n",
    "        self.selu6 = nn.SELU()\n",
    "        self.flatten = nn.Flatten()\n",
    "        self.fc = nn.Linear(512 * number_pixels_layer * number_pixels_layer, 1)\n",
    "\n",
    "    def forward(self, x):\n",
    "        x = self.conv1(x)\n",
    "        x = self.selu1(x)\n",
    "        x = self.conv2(x)\n",
    "        x = self.selu2(x)\n",
    "        x = self.conv3(x)\n",
    "        x = self.selu3(x)\n",
    "        x = self.conv4(x)\n",
    "        x = self.selu4(x)\n",
    "        x = self.conv5(x)\n",
    "        x = self.selu5(x)\n",
    "        x = self.conv6(x)\n",
    "        x = self.selu6(x)\n",
    "        x = self.flatten(x)\n",
    "        x = self.fc(x)\n",
    "        return x\n",
    "\n",
    "model = CNNRegressor()"
   ]
  },
  {
   "cell_type": "code",
   "execution_count": null,
   "id": "8a40871c",
   "metadata": {},
   "outputs": [],
   "source": [
    "# Load model\n",
    "path_model = '../../Data/Calibrated_models/global_regressor_V0.pth'\n",
    "model.load_state_dict(torch.load(path_model))"
   ]
  },
  {
   "cell_type": "code",
   "execution_count": null,
   "id": "b6b8aad0",
   "metadata": {},
   "outputs": [],
   "source": [
    "# Cambia el modelo al modo de evaluación (si es necesario)\n",
    "model.eval()"
   ]
  },
  {
   "cell_type": "code",
   "execution_count": null,
   "id": "c5dbb554",
   "metadata": {},
   "outputs": [],
   "source": []
  },
  {
   "cell_type": "code",
   "execution_count": null,
   "id": "968bed03",
   "metadata": {},
   "outputs": [],
   "source": [
    "# Load tensors\n",
    "path_tensor_train = '../../Data/Calibrated_models/global_regressor_V0_tensor_y_train.pth'\n",
    "y_train = torch.load(path_tensor_train)\n",
    "\n",
    "path_tensor_test = '../../Data/Calibrated_models/global_regressor_V0_tensor_y_test.pth'\n",
    "y_test = torch.load(path_tensor_test)\n",
    "\n",
    "path_tensor_test = '../../Data/Calibrated_models/global_regressor_V0_test_tensor.pth'\n",
    "test_tensor = torch.load(path_tensor_test)\n",
    "\n",
    "path_tensor_training = '../../Data/Calibrated_models/global_regressor_V0_training_tensor.pth'\n",
    "training_tensor = torch.load(path_tensor_training)"
   ]
  },
  {
   "cell_type": "code",
   "execution_count": null,
   "id": "d9d21288",
   "metadata": {},
   "outputs": [],
   "source": []
  },
  {
   "cell_type": "code",
   "execution_count": null,
   "id": "8ef72571",
   "metadata": {},
   "outputs": [],
   "source": [
    "# Model eval\n",
    "y_pred = model(test_tensor.to(torch.float))\n",
    "y_true = y_test.to(torch.float)\n",
    "\n",
    "# MSE\n",
    "mse = nn.MSELoss()\n",
    "mse_loss = mse(y_pred, y_true)\n",
    "print(\"MSE:\", mse_loss.item())\n",
    "\n",
    "# RMSE\n",
    "rmse_loss = torch.sqrt(mse_loss)\n",
    "print(\"RMSE:\", rmse_loss.item())\n",
    "\n",
    "# MAE\n",
    "mae_loss = torch.mean(torch.abs(y_pred - y_true))\n",
    "print(\"MAE:\", mae_loss.item())\n",
    "\n",
    "y_true_array = y_true.flatten().tolist()\n",
    "y_pred_array = y_pred.flatten().tolist()\n",
    "\n",
    "# R^2\n",
    "r2 = r2_score(y_true_array, y_pred_array)\n",
    "print(\"R^2:\", r2)\n",
    "\n",
    "# Pearson\n",
    "corr, p_value_r = pearsonr(y_true_array, y_pred_array)\n",
    "print(\"Pearson's r:\", corr)\n",
    "print(\"p-value (Pearson):\", p_value_r)\n",
    "print(\"Sanity check: r * r?\", corr*corr)\n",
    "print(\"Sanity check: r2 - r * r = 0?\", r2 == corr*corr, r2 - corr*corr)\n",
    "\n",
    "# Spearman\n",
    "rho, p_value_rho = spearmanr(y_true_array, y_pred_array)\n",
    "print(\"Spearman's rho:\", rho)\n",
    "print(\"p-value:\", p_value_rho)"
   ]
  },
  {
   "cell_type": "code",
   "execution_count": null,
   "id": "6dc1dcac",
   "metadata": {},
   "outputs": [],
   "source": [
    "# Add model predictions to training and test sets\n",
    "# Load training and test info\n",
    "\n",
    "df_train = pd.read_csv('../../Data/data_train_new.csv')\n",
    "df_test = pd.read_csv('../../Data/data_test_new.csv')\n",
    "\n",
    "rows_with_na = df_test.isna().any(axis=1)\n",
    "indices_na = df_test.index[rows_with_na]\n",
    "df_test = df_test.drop(index=indices_na)"
   ]
  },
  {
   "cell_type": "code",
   "execution_count": null,
   "id": "6704c728",
   "metadata": {},
   "outputs": [],
   "source": [
    "# Model results for test partition\n",
    "y_pred = model(test_tensor.to(torch.float))\n",
    "# Turn the tensor into a NumPy array\n",
    "y_pred_numpy_array = y_pred.detach().numpy()\n",
    "\n",
    "# create a pandas series from NumPy array\n",
    "y_pred_pandas_serie = pd.Series(y_pred_numpy_array.squeeze(), name='global_regressor_V0')\n",
    "df_test['global_regressor_V0'] = y_pred_pandas_serie\n",
    "\n",
    "# Save info\n",
    "df_test.to_csv('../../Data/data_test_global_regressor_V0.csv', index=False)"
   ]
  },
  {
   "cell_type": "code",
   "execution_count": null,
   "id": "0ed30d5c",
   "metadata": {},
   "outputs": [],
   "source": []
  },
  {
   "cell_type": "code",
   "execution_count": null,
   "id": "470cf36e",
   "metadata": {},
   "outputs": [],
   "source": [
    "# Model results for train partition\n",
    "y_train_predicted = model(training_tensor.to(torch.float))\n",
    "# Turn the tensor into a NumPy array\n",
    "y_train_predicted_numpy_array = y_train_predicted.detach().numpy()\n",
    "\n",
    "# Select elements in positions: 0, 4, 8, 12, ...\n",
    "indices = np.arange(0, len(y_train_predicted_numpy_array), 4)\n",
    "y_train_predicted_numpy_array_filtered = y_train_predicted_numpy_array[indices]\n",
    "\n",
    "# create a pandas series from NumPy array\n",
    "y_train_predicted_pandas_serie = pd.Series(y_train_predicted_numpy_array_filtered.squeeze(), name='global_regressor_V0')\n",
    "df_train['global_regressor_V0'] = y_train_predicted_pandas_serie\n",
    "\n",
    "# Save info\n",
    "df_train.to_csv('../../Data/data_train_global_regressor_V0.csv', index=False)"
   ]
  },
  {
   "cell_type": "code",
   "execution_count": null,
   "id": "0755d1ca",
   "metadata": {},
   "outputs": [],
   "source": []
  }
 ],
 "metadata": {
  "kernelspec": {
   "display_name": "Python 3 (ipykernel)",
   "language": "python",
   "name": "python3"
  },
  "language_info": {
   "codemirror_mode": {
    "name": "ipython",
    "version": 3
   },
   "file_extension": ".py",
   "mimetype": "text/x-python",
   "name": "python",
   "nbconvert_exporter": "python",
   "pygments_lexer": "ipython3",
   "version": "3.11.5"
  }
 },
 "nbformat": 4,
 "nbformat_minor": 5
}
