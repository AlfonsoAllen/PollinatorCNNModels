{
 "cells": [
  {
   "cell_type": "code",
   "execution_count": null,
   "id": "0af1a962",
   "metadata": {},
   "outputs": [],
   "source": [
    "import torch\n",
    "from torch import nn\n",
    "import matplotlib.pyplot as plt"
   ]
  },
  {
   "cell_type": "code",
   "execution_count": null,
   "id": "1004a047",
   "metadata": {},
   "outputs": [],
   "source": []
  },
  {
   "cell_type": "code",
   "execution_count": null,
   "id": "bcdf4f6b",
   "metadata": {},
   "outputs": [],
   "source": [
    "# Model definition\n",
    "number_raster_layers = 9\n",
    "number_pixels_layer = 19\n",
    "\n",
    "class CNNRegressor(nn.Module):\n",
    "    def __init__(self):\n",
    "        super(CNNRegressor, self).__init__()\n",
    "        self.conv1 = nn.Conv2d(number_raster_layers, 16, kernel_size=3, stride=1, padding=1)\n",
    "        self.selu1 = nn.SELU()\n",
    "        self.conv2 = nn.Conv2d(16, 32, kernel_size=3, stride=1, padding=1)\n",
    "        self.selu2 = nn.SELU()\n",
    "        self.conv3 = nn.Conv2d(32, 64, kernel_size=3, stride=1, padding=1)\n",
    "        self.selu3 = nn.SELU()\n",
    "        self.conv4 = nn.Conv2d(64, 128, kernel_size=3, stride=1, padding=1)\n",
    "        self.selu4 = nn.SELU()\n",
    "        self.conv5 = nn.Conv2d(128, 256, kernel_size=3, stride=1, padding=1)\n",
    "        self.selu5 = nn.SELU()\n",
    "        self.conv6 = nn.Conv2d(256, 512, kernel_size=3, stride=1, padding=1)\n",
    "        self.selu6 = nn.SELU()\n",
    "        self.flatten = nn.Flatten()\n",
    "        self.fc = nn.Linear(512 * number_pixels_layer * number_pixels_layer, 1)\n",
    "\n",
    "    def forward(self, x):\n",
    "        x = self.conv1(x)\n",
    "        x = self.selu1(x)\n",
    "        x = self.conv2(x)\n",
    "        x = self.selu2(x)\n",
    "        x = self.conv3(x)\n",
    "        x = self.selu3(x)\n",
    "        x = self.conv4(x)\n",
    "        x = self.selu4(x)\n",
    "        x = self.conv5(x)\n",
    "        x = self.selu5(x)\n",
    "        x = self.conv6(x)\n",
    "        x = self.selu6(x)\n",
    "        x = self.flatten(x)\n",
    "        x = self.fc(x)\n",
    "        return x\n",
    "\n",
    "model = CNNRegressor()"
   ]
  },
  {
   "cell_type": "code",
   "execution_count": null,
   "id": "4872bcb3",
   "metadata": {},
   "outputs": [],
   "source": [
    "# Load model\n",
    "path_model = '../../Data/Calibrated_models/global_regressor_V0.pth'\n",
    "model.load_state_dict(torch.load(path_model))\n"
   ]
  },
  {
   "cell_type": "code",
   "execution_count": null,
   "id": "5c1cfeea",
   "metadata": {},
   "outputs": [],
   "source": [
    "# Prepare model for evaluation\n",
    "model.eval()"
   ]
  },
  {
   "cell_type": "code",
   "execution_count": null,
   "id": "12456b37",
   "metadata": {},
   "outputs": [],
   "source": [
    "# Load tensors\n",
    "path_tensor_train = '../../Data/Calibrated_models/global_regressor_V0_tensor_y_train.pth'\n",
    "y_train = torch.load(path_tensor_train)\n",
    "\n",
    "path_tensor_test = '../../Data/Calibrated_models/global_regressor_V0_tensor_y_test.pth'\n",
    "y_test = torch.load(path_tensor_test)\n",
    "\n",
    "path_tensor_test = '../../Data/Calibrated_models/global_regressor_V0_test_tensor.pth'\n",
    "test_tensor = torch.load(path_tensor_test)\n",
    "\n",
    "path_tensor_training = '../../Data/Calibrated_models/global_regressor_V0_training_tensor.pth'\n",
    "training_tensor = torch.load(path_tensor_training)"
   ]
  },
  {
   "cell_type": "code",
   "execution_count": null,
   "id": "dd2f80e3",
   "metadata": {},
   "outputs": [],
   "source": []
  },
  {
   "cell_type": "code",
   "execution_count": null,
   "id": "43bd8638",
   "metadata": {},
   "outputs": [],
   "source": [
    "# Number of test sites\n",
    "total_number_test_sites = test_tensor.shape[0]\n",
    "print(total_number_test_sites)"
   ]
  },
  {
   "cell_type": "code",
   "execution_count": null,
   "id": "162c43de",
   "metadata": {},
   "outputs": [],
   "source": [
    "# Results for the test dataset\n",
    "\n",
    "from sklearn.metrics import r2_score\n",
    "from scipy.stats import pearsonr\n",
    "from scipy.stats import spearmanr\n",
    "\n",
    "# Model eval\n",
    "y_pred = model(test_tensor.to(torch.float))\n",
    "y_true = y_test.to(torch.float)\n",
    "\n",
    "# MSE\n",
    "mse = nn.MSELoss()\n",
    "mse_loss = mse(y_pred, y_true)\n",
    "print(\"MSE:\", mse_loss.item())\n",
    "\n",
    "# RMSE\n",
    "rmse_loss = torch.sqrt(mse_loss)\n",
    "print(\"RMSE:\", rmse_loss.item())\n",
    "\n",
    "# MAE\n",
    "mae_loss = torch.mean(torch.abs(y_pred - y_true))\n",
    "print(\"MAE:\", mae_loss.item())\n",
    "\n",
    "y_true_array = y_true.flatten().tolist()\n",
    "y_pred_array = y_pred.flatten().tolist()\n",
    "\n",
    "# R^2\n",
    "r2 = r2_score(y_true_array, y_pred_array)\n",
    "print(\"R^2:\", r2)\n",
    "\n",
    "# Pearson\n",
    "corr, p_value_r = pearsonr(y_true_array, y_pred_array)\n",
    "print(\"Pearson's r:\", corr)\n",
    "print(\"p-value (Pearson):\", p_value_r)\n",
    "print(\"Sanity check: r * r?\", corr*corr)\n",
    "print(\"Sanity check: r2 - r * r = 0?\", r2 == corr*corr, r2 - corr*corr)\n",
    "\n",
    "# Spearman\n",
    "rho, p_value_rho = spearmanr(y_true_array, y_pred_array)\n",
    "print(\"Spearman's rho:\", rho)\n",
    "print(\"p-value:\", p_value_rho)"
   ]
  },
  {
   "cell_type": "code",
   "execution_count": null,
   "id": "88c86911",
   "metadata": {},
   "outputs": [],
   "source": []
  },
  {
   "cell_type": "code",
   "execution_count": null,
   "id": "464ff979",
   "metadata": {},
   "outputs": [],
   "source": [
    "# Plot Suppl. Fig E1"
   ]
  },
  {
   "cell_type": "code",
   "execution_count": null,
   "id": "a8010e34",
   "metadata": {},
   "outputs": [],
   "source": [
    "import matplotlib.pyplot as plt\n",
    "import numpy as np\n",
    "from scipy.stats import pearsonr, spearmanr\n",
    "\n",
    "# Exponentiate the values of the points\n",
    "y_true_exp = np.exp(y_true_array)\n",
    "y_pred_exp = np.exp(y_pred_array)\n",
    "\n",
    "# Fit a regression line with numpy on the exponential scale\n",
    "coef = np.polyfit(np.log10(y_pred_exp), np.log10(y_true_exp), 1)\n",
    "poly1d_fn = np.poly1d(coef)\n",
    "\n",
    "# Create a scatter plot with the regression line\n",
    "plt.scatter(y_pred_exp, y_true_exp, label='Data')\n",
    "plt.plot(y_pred_exp, 10**poly1d_fn(np.log10(y_pred_exp)), color='blue', linestyle='--')\n",
    "\n",
    "# Set the axes to logarithmic scale (base 10)\n",
    "plt.xscale('log')\n",
    "plt.yscale('log')\n",
    "\n",
    "# Add labels to the axes\n",
    "plt.xlabel('CNN prediction (counts/min)', fontsize=16)\n",
    "plt.ylabel('Observed visitation rate\\n(counts/min)', fontsize=16)\n",
    "\n",
    "plt.xticks(fontsize=14)\n",
    "plt.yticks(fontsize=14)\n",
    "\n",
    "# Save the image\n",
    "plt.savefig('../../Figures/figE1.png', dpi=300, bbox_inches='tight')\n",
    "\n",
    "# Show the plot\n",
    "plt.show()"
   ]
  }
 ],
 "metadata": {
  "kernelspec": {
   "display_name": "Python 3 (ipykernel)",
   "language": "python",
   "name": "python3"
  },
  "language_info": {
   "codemirror_mode": {
    "name": "ipython",
    "version": 3
   },
   "file_extension": ".py",
   "mimetype": "text/x-python",
   "name": "python",
   "nbconvert_exporter": "python",
   "pygments_lexer": "ipython3",
   "version": "3.11.5"
  }
 },
 "nbformat": 4,
 "nbformat_minor": 5
}
